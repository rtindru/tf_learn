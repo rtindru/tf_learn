{
  "nbformat": 4,
  "nbformat_minor": 0,
  "metadata": {
    "accelerator": "GPU",
    "colab": {
      "name": "NLP_Week4_Exercise_Shakespeare_Question.ipynb",
      "provenance": [],
      "toc_visible": true
    },
    "kernelspec": {
      "display_name": "Python 3",
      "name": "python3"
    }
  },
  "cells": [
    {
      "cell_type": "code",
      "metadata": {
        "id": "zX4Kg8DUTKWO"
      },
      "source": [
        "#@title Licensed under the Apache License, Version 2.0 (the \"License\");\n",
        "# you may not use this file except in compliance with the License.\n",
        "# You may obtain a copy of the License at\n",
        "#\n",
        "# https://www.apache.org/licenses/LICENSE-2.0\n",
        "#\n",
        "# Unless required by applicable law or agreed to in writing, software\n",
        "# distributed under the License is distributed on an \"AS IS\" BASIS,\n",
        "# WITHOUT WARRANTIES OR CONDITIONS OF ANY KIND, either express or implied.\n",
        "# See the License for the specific language governing permissions and\n",
        "# limitations under the License."
      ],
      "execution_count": 1,
      "outputs": []
    },
    {
      "cell_type": "code",
      "metadata": {
        "id": "BOwsuGQQY9OL"
      },
      "source": [
        "from tensorflow.keras.preprocessing.sequence import pad_sequences\n",
        "from tensorflow.keras.layers import Embedding, LSTM, Dense, Dropout, Bidirectional\n",
        "from tensorflow.keras.preprocessing.text import Tokenizer\n",
        "from tensorflow.keras.models import Sequential\n",
        "from tensorflow.keras.optimizers import Adam\n",
        "from tensorflow.keras import regularizers\n",
        "import tensorflow.keras.utils as ku \n",
        "import numpy as np "
      ],
      "execution_count": 2,
      "outputs": []
    },
    {
      "cell_type": "code",
      "metadata": {
        "colab": {
          "base_uri": "https://localhost:8080/"
        },
        "id": "PRnDnCW-Z7qv",
        "outputId": "3b17a829-b0ea-4f92-de22-556a797c0b6b"
      },
      "source": [
        "tokenizer = Tokenizer()\n",
        "!wget --no-check-certificate \\\n",
        "    https://storage.googleapis.com/laurencemoroney-blog.appspot.com/sonnets.txt \\\n",
        "    -O /tmp/sonnets.txt\n",
        "data = open('/tmp/sonnets.txt').read()\n",
        "\n",
        "corpus = data.lower().split(\"\\n\")\n",
        "\n",
        "\n",
        "tokenizer.fit_on_texts(corpus)\n",
        "total_words = len(tokenizer.word_index) + 1\n",
        "\n",
        "# create input sequences using list of tokens\n",
        "input_sequences = []\n",
        "for line in corpus:\n",
        "\ttoken_list = tokenizer.texts_to_sequences([line])[0]\n",
        "\tfor i in range(1, len(token_list)):\n",
        "\t\tn_gram_sequence = token_list[:i+1]\n",
        "\t\tinput_sequences.append(n_gram_sequence)\n",
        "\n",
        "\n",
        "# pad sequences \n",
        "max_sequence_len = max([len(x) for x in input_sequences])\n",
        "input_sequences = np.array(pad_sequences(input_sequences, maxlen=max_sequence_len, padding='pre'))\n",
        "\n",
        "# create predictors and label\n",
        "predictors, label = input_sequences[:,:-1],input_sequences[:,-1]\n",
        "\n",
        "label = ku.to_categorical(label, num_classes=total_words)"
      ],
      "execution_count": 3,
      "outputs": [
        {
          "output_type": "stream",
          "text": [
            "--2021-01-02 21:46:39--  https://storage.googleapis.com/laurencemoroney-blog.appspot.com/sonnets.txt\n",
            "Resolving storage.googleapis.com (storage.googleapis.com)... 74.125.142.128, 74.125.20.128, 74.125.195.128, ...\n",
            "Connecting to storage.googleapis.com (storage.googleapis.com)|74.125.142.128|:443... connected.\n",
            "HTTP request sent, awaiting response... 200 OK\n",
            "Length: 93578 (91K) [text/plain]\n",
            "Saving to: ‘/tmp/sonnets.txt’\n",
            "\n",
            "\r/tmp/sonnets.txt      0%[                    ]       0  --.-KB/s               \r/tmp/sonnets.txt    100%[===================>]  91.38K  --.-KB/s    in 0.001s  \n",
            "\n",
            "2021-01-02 21:46:39 (95.4 MB/s) - ‘/tmp/sonnets.txt’ saved [93578/93578]\n",
            "\n"
          ],
          "name": "stdout"
        }
      ]
    },
    {
      "cell_type": "code",
      "metadata": {
        "id": "F9LCiHGrESUj",
        "outputId": "3808302b-bce2-4d03-e338-2c2b91cf21c2",
        "colab": {
          "base_uri": "https://localhost:8080/"
        }
      },
      "source": [
        "tokenizer.index_word[0] = \"<>\"\n",
        "for seq in input_sequences[:5]:\n",
        "    print(seq.shape)\n",
        "    print(repr(''.join((tokenizer.index_word[x] for x in seq))))"
      ],
      "execution_count": 26,
      "outputs": [
        {
          "output_type": "stream",
          "text": [
            "(11,)\n",
            "'<><><><><><><><><>fromfairest'\n",
            "(11,)\n",
            "'<><><><><><><><>fromfairestcreatures'\n",
            "(11,)\n",
            "'<><><><><><><>fromfairestcreatureswe'\n",
            "(11,)\n",
            "'<><><><><><>fromfairestcreatureswedesire'\n",
            "(11,)\n",
            "'<><><><><>fromfairestcreatureswedesireincrease'\n"
          ],
          "name": "stdout"
        }
      ]
    },
    {
      "cell_type": "code",
      "metadata": {
        "colab": {
          "base_uri": "https://localhost:8080/"
        },
        "id": "w9vH8Y59ajYL",
        "outputId": "d96ff82a-cd40-4c3c-f111-b656b8aa08b3"
      },
      "source": [
        "# Length of the vocabulary in chars\n",
        "vocab_size = len(tokenizer.word_index) + 1\n",
        "\n",
        "# The embedding dimension\n",
        "embedding_dim = 256\n",
        "\n",
        "# Number of RNN units\n",
        "lstm_units = 1024\n",
        "\n",
        "model = Sequential()\n",
        "model.add(Embedding(vocab_size, embedding_dim, input_length=max_sequence_len-1))\n",
        "model.add(LSTM(lstm_units, return_sequences=True,))\n",
        "model.add(Dropout(0.2))\n",
        "model.add(LSTM(lstm_units))\n",
        "model.add(Dense(512, \n",
        "                kernel_regularizer=regularizers.l1_l2(l1=1e-5, l2=1e-4), \n",
        "                bias_regularizer=regularizers.l2(1e-4),\n",
        "                activity_regularizer=regularizers.l2(1e-5)))\n",
        "model.add(Dense(vocab_size, activation='softmax'))\n",
        "# Pick an optimizer\n",
        "model.compile(optimizer='adam', loss='categorical_crossentropy', metrics=['accuracy'])\n",
        "print(model.summary())\n"
      ],
      "execution_count": 38,
      "outputs": [
        {
          "output_type": "stream",
          "text": [
            "Model: \"sequential_5\"\n",
            "_________________________________________________________________\n",
            "Layer (type)                 Output Shape              Param #   \n",
            "=================================================================\n",
            "embedding_5 (Embedding)      (None, 10, 256)           822016    \n",
            "_________________________________________________________________\n",
            "lstm_10 (LSTM)               (None, 10, 1024)          5246976   \n",
            "_________________________________________________________________\n",
            "dropout_5 (Dropout)          (None, 10, 1024)          0         \n",
            "_________________________________________________________________\n",
            "lstm_11 (LSTM)               (None, 1024)              8392704   \n",
            "_________________________________________________________________\n",
            "dense_8 (Dense)              (None, 512)               524800    \n",
            "_________________________________________________________________\n",
            "dense_9 (Dense)              (None, 3211)              1647243   \n",
            "=================================================================\n",
            "Total params: 16,633,739\n",
            "Trainable params: 16,633,739\n",
            "Non-trainable params: 0\n",
            "_________________________________________________________________\n",
            "None\n"
          ],
          "name": "stdout"
        }
      ]
    },
    {
      "cell_type": "code",
      "metadata": {
        "colab": {
          "base_uri": "https://localhost:8080/"
        },
        "id": "AIg2f1HBxqof",
        "outputId": "d0ce596c-8163-4add-8dc1-e1499dc19a8b"
      },
      "source": [
        "history = model.fit(predictors, label, epochs=100, verbose=1)"
      ],
      "execution_count": 39,
      "outputs": [
        {
          "output_type": "stream",
          "text": [
            "Epoch 1/100\n",
            "484/484 [==============================] - 13s 22ms/step - loss: 7.1559 - accuracy: 0.0190\n",
            "Epoch 2/100\n",
            "484/484 [==============================] - 10s 21ms/step - loss: 6.5207 - accuracy: 0.0234\n",
            "Epoch 3/100\n",
            "484/484 [==============================] - 10s 21ms/step - loss: 6.4089 - accuracy: 0.0294\n",
            "Epoch 4/100\n",
            "484/484 [==============================] - 10s 22ms/step - loss: 6.2293 - accuracy: 0.0379\n",
            "Epoch 5/100\n",
            "484/484 [==============================] - 10s 22ms/step - loss: 6.1162 - accuracy: 0.0384\n",
            "Epoch 6/100\n",
            "484/484 [==============================] - 10s 22ms/step - loss: 5.9521 - accuracy: 0.0499\n",
            "Epoch 7/100\n",
            "484/484 [==============================] - 10s 22ms/step - loss: 5.8297 - accuracy: 0.0570\n",
            "Epoch 8/100\n",
            "484/484 [==============================] - 11s 22ms/step - loss: 5.7145 - accuracy: 0.0571\n",
            "Epoch 9/100\n",
            "484/484 [==============================] - 11s 22ms/step - loss: 5.6295 - accuracy: 0.0611\n",
            "Epoch 10/100\n",
            "484/484 [==============================] - 11s 22ms/step - loss: 5.5276 - accuracy: 0.0673\n",
            "Epoch 11/100\n",
            "484/484 [==============================] - 11s 22ms/step - loss: 5.4555 - accuracy: 0.0666\n",
            "Epoch 12/100\n",
            "484/484 [==============================] - 11s 22ms/step - loss: 5.3540 - accuracy: 0.0745\n",
            "Epoch 13/100\n",
            "484/484 [==============================] - 11s 23ms/step - loss: 5.2564 - accuracy: 0.0812\n",
            "Epoch 14/100\n",
            "484/484 [==============================] - 11s 23ms/step - loss: 5.1649 - accuracy: 0.0856\n",
            "Epoch 15/100\n",
            "484/484 [==============================] - 11s 22ms/step - loss: 5.0874 - accuracy: 0.0864\n",
            "Epoch 16/100\n",
            "484/484 [==============================] - 11s 23ms/step - loss: 4.9739 - accuracy: 0.0957\n",
            "Epoch 17/100\n",
            "484/484 [==============================] - 11s 23ms/step - loss: 4.9028 - accuracy: 0.0990\n",
            "Epoch 18/100\n",
            "484/484 [==============================] - 11s 22ms/step - loss: 4.7954 - accuracy: 0.1065\n",
            "Epoch 19/100\n",
            "484/484 [==============================] - 11s 23ms/step - loss: 4.7029 - accuracy: 0.1164\n",
            "Epoch 20/100\n",
            "484/484 [==============================] - 11s 22ms/step - loss: 4.6053 - accuracy: 0.1198\n",
            "Epoch 21/100\n",
            "484/484 [==============================] - 11s 22ms/step - loss: 4.4730 - accuracy: 0.1368\n",
            "Epoch 22/100\n",
            "484/484 [==============================] - 11s 22ms/step - loss: 4.3787 - accuracy: 0.1431\n",
            "Epoch 23/100\n",
            "484/484 [==============================] - 11s 22ms/step - loss: 4.2732 - accuracy: 0.1519\n",
            "Epoch 24/100\n",
            "484/484 [==============================] - 11s 22ms/step - loss: 4.1620 - accuracy: 0.1605\n",
            "Epoch 25/100\n",
            "484/484 [==============================] - 11s 22ms/step - loss: 4.0822 - accuracy: 0.1636\n",
            "Epoch 26/100\n",
            "484/484 [==============================] - 11s 22ms/step - loss: 3.9616 - accuracy: 0.1864\n",
            "Epoch 27/100\n",
            "484/484 [==============================] - 11s 22ms/step - loss: 3.8546 - accuracy: 0.2042\n",
            "Epoch 28/100\n",
            "484/484 [==============================] - 11s 22ms/step - loss: 3.7304 - accuracy: 0.2184\n",
            "Epoch 29/100\n",
            "484/484 [==============================] - 11s 22ms/step - loss: 3.5920 - accuracy: 0.2408\n",
            "Epoch 30/100\n",
            "484/484 [==============================] - 11s 22ms/step - loss: 3.4880 - accuracy: 0.2604\n",
            "Epoch 31/100\n",
            "484/484 [==============================] - 11s 22ms/step - loss: 3.3274 - accuracy: 0.2819\n",
            "Epoch 32/100\n",
            "484/484 [==============================] - 11s 22ms/step - loss: 3.2216 - accuracy: 0.3038\n",
            "Epoch 33/100\n",
            "484/484 [==============================] - 11s 22ms/step - loss: 3.0834 - accuracy: 0.3293\n",
            "Epoch 34/100\n",
            "484/484 [==============================] - 11s 22ms/step - loss: 2.9199 - accuracy: 0.3571\n",
            "Epoch 35/100\n",
            "484/484 [==============================] - 11s 22ms/step - loss: 2.7824 - accuracy: 0.4006\n",
            "Epoch 36/100\n",
            "484/484 [==============================] - 11s 22ms/step - loss: 2.6047 - accuracy: 0.4331\n",
            "Epoch 37/100\n",
            "484/484 [==============================] - 11s 22ms/step - loss: 2.4574 - accuracy: 0.4620\n",
            "Epoch 38/100\n",
            "484/484 [==============================] - 11s 22ms/step - loss: 2.3212 - accuracy: 0.4964\n",
            "Epoch 39/100\n",
            "484/484 [==============================] - 11s 22ms/step - loss: 2.1832 - accuracy: 0.5347\n",
            "Epoch 40/100\n",
            "484/484 [==============================] - 11s 22ms/step - loss: 1.9746 - accuracy: 0.5816\n",
            "Epoch 41/100\n",
            "484/484 [==============================] - 11s 22ms/step - loss: 1.8734 - accuracy: 0.6132\n",
            "Epoch 42/100\n",
            "484/484 [==============================] - 11s 22ms/step - loss: 1.7654 - accuracy: 0.6341\n",
            "Epoch 43/100\n",
            "484/484 [==============================] - 11s 22ms/step - loss: 1.6489 - accuracy: 0.6634\n",
            "Epoch 44/100\n",
            "484/484 [==============================] - 11s 23ms/step - loss: 1.5369 - accuracy: 0.6921\n",
            "Epoch 45/100\n",
            "484/484 [==============================] - 11s 22ms/step - loss: 1.4206 - accuracy: 0.7241\n",
            "Epoch 46/100\n",
            "484/484 [==============================] - 11s 22ms/step - loss: 1.3504 - accuracy: 0.7457\n",
            "Epoch 47/100\n",
            "484/484 [==============================] - 11s 22ms/step - loss: 1.3154 - accuracy: 0.7525\n",
            "Epoch 48/100\n",
            "484/484 [==============================] - 11s 22ms/step - loss: 1.2464 - accuracy: 0.7677\n",
            "Epoch 49/100\n",
            "484/484 [==============================] - 11s 22ms/step - loss: 1.1997 - accuracy: 0.7747\n",
            "Epoch 50/100\n",
            "484/484 [==============================] - 11s 22ms/step - loss: 1.1784 - accuracy: 0.7827\n",
            "Epoch 51/100\n",
            "484/484 [==============================] - 11s 22ms/step - loss: 1.1081 - accuracy: 0.8048\n",
            "Epoch 52/100\n",
            "484/484 [==============================] - 11s 22ms/step - loss: 1.1005 - accuracy: 0.8028\n",
            "Epoch 53/100\n",
            "484/484 [==============================] - 11s 22ms/step - loss: 1.0592 - accuracy: 0.8073\n",
            "Epoch 54/100\n",
            "484/484 [==============================] - 11s 22ms/step - loss: 1.0363 - accuracy: 0.8140\n",
            "Epoch 55/100\n",
            "484/484 [==============================] - 11s 22ms/step - loss: 1.0311 - accuracy: 0.8122\n",
            "Epoch 56/100\n",
            "484/484 [==============================] - 11s 22ms/step - loss: 0.9808 - accuracy: 0.8240\n",
            "Epoch 57/100\n",
            "484/484 [==============================] - 11s 22ms/step - loss: 0.9959 - accuracy: 0.8159\n",
            "Epoch 58/100\n",
            "484/484 [==============================] - 11s 22ms/step - loss: 0.9809 - accuracy: 0.8238\n",
            "Epoch 59/100\n",
            "484/484 [==============================] - 11s 22ms/step - loss: 0.9459 - accuracy: 0.8277\n",
            "Epoch 60/100\n",
            "484/484 [==============================] - 11s 22ms/step - loss: 0.9320 - accuracy: 0.8310\n",
            "Epoch 61/100\n",
            "484/484 [==============================] - 11s 22ms/step - loss: 0.9095 - accuracy: 0.8364\n",
            "Epoch 62/100\n",
            "484/484 [==============================] - 11s 22ms/step - loss: 0.9043 - accuracy: 0.8346\n",
            "Epoch 63/100\n",
            "484/484 [==============================] - 11s 22ms/step - loss: 0.9075 - accuracy: 0.8323\n",
            "Epoch 64/100\n",
            "484/484 [==============================] - 11s 22ms/step - loss: 0.8794 - accuracy: 0.8359\n",
            "Epoch 65/100\n",
            "484/484 [==============================] - 11s 22ms/step - loss: 0.8917 - accuracy: 0.8303\n",
            "Epoch 66/100\n",
            "484/484 [==============================] - 11s 23ms/step - loss: 0.8477 - accuracy: 0.8429\n",
            "Epoch 67/100\n",
            "484/484 [==============================] - 11s 22ms/step - loss: 0.8461 - accuracy: 0.8434\n",
            "Epoch 68/100\n",
            "484/484 [==============================] - 11s 22ms/step - loss: 0.8349 - accuracy: 0.8411\n",
            "Epoch 69/100\n",
            "484/484 [==============================] - 11s 22ms/step - loss: 0.8613 - accuracy: 0.8371\n",
            "Epoch 70/100\n",
            "484/484 [==============================] - 11s 22ms/step - loss: 0.8433 - accuracy: 0.8420\n",
            "Epoch 71/100\n",
            "484/484 [==============================] - 11s 22ms/step - loss: 0.8044 - accuracy: 0.8487\n",
            "Epoch 72/100\n",
            "484/484 [==============================] - 11s 22ms/step - loss: 0.8296 - accuracy: 0.8435\n",
            "Epoch 73/100\n",
            "484/484 [==============================] - 11s 22ms/step - loss: 0.8193 - accuracy: 0.8400\n",
            "Epoch 74/100\n",
            "484/484 [==============================] - 11s 22ms/step - loss: 0.8129 - accuracy: 0.8436\n",
            "Epoch 75/100\n",
            "484/484 [==============================] - 11s 22ms/step - loss: 0.7669 - accuracy: 0.8508\n",
            "Epoch 76/100\n",
            "484/484 [==============================] - 11s 22ms/step - loss: 0.7717 - accuracy: 0.8496\n",
            "Epoch 77/100\n",
            "484/484 [==============================] - 11s 22ms/step - loss: 0.7778 - accuracy: 0.8460\n",
            "Epoch 78/100\n",
            "484/484 [==============================] - 11s 22ms/step - loss: 0.7862 - accuracy: 0.8423\n",
            "Epoch 79/100\n",
            "484/484 [==============================] - 11s 22ms/step - loss: 0.7918 - accuracy: 0.8443\n",
            "Epoch 80/100\n",
            "484/484 [==============================] - 11s 22ms/step - loss: 0.7970 - accuracy: 0.8401\n",
            "Epoch 81/100\n",
            "484/484 [==============================] - 11s 22ms/step - loss: 0.7576 - accuracy: 0.8497\n",
            "Epoch 82/100\n",
            "484/484 [==============================] - 11s 22ms/step - loss: 0.7709 - accuracy: 0.8427\n",
            "Epoch 83/100\n",
            "484/484 [==============================] - 11s 22ms/step - loss: 0.7308 - accuracy: 0.8509\n",
            "Epoch 84/100\n",
            "484/484 [==============================] - 11s 22ms/step - loss: 0.7556 - accuracy: 0.8483\n",
            "Epoch 85/100\n",
            "484/484 [==============================] - 11s 22ms/step - loss: 0.7740 - accuracy: 0.8416\n",
            "Epoch 86/100\n",
            "484/484 [==============================] - 11s 22ms/step - loss: 0.7596 - accuracy: 0.8476\n",
            "Epoch 87/100\n",
            "484/484 [==============================] - 11s 23ms/step - loss: 0.7617 - accuracy: 0.8418\n",
            "Epoch 88/100\n",
            "484/484 [==============================] - 11s 23ms/step - loss: 0.7455 - accuracy: 0.8456\n",
            "Epoch 89/100\n",
            "484/484 [==============================] - 11s 23ms/step - loss: 0.7162 - accuracy: 0.8550\n",
            "Epoch 90/100\n",
            "484/484 [==============================] - 11s 23ms/step - loss: 0.7315 - accuracy: 0.8482\n",
            "Epoch 91/100\n",
            "484/484 [==============================] - 11s 23ms/step - loss: 0.7193 - accuracy: 0.8534\n",
            "Epoch 92/100\n",
            "484/484 [==============================] - 11s 23ms/step - loss: 0.7055 - accuracy: 0.8542\n",
            "Epoch 93/100\n",
            "484/484 [==============================] - 11s 23ms/step - loss: 0.6922 - accuracy: 0.8586\n",
            "Epoch 94/100\n",
            "484/484 [==============================] - 11s 23ms/step - loss: 0.7079 - accuracy: 0.8525\n",
            "Epoch 95/100\n",
            "484/484 [==============================] - 11s 23ms/step - loss: 0.7070 - accuracy: 0.8514\n",
            "Epoch 96/100\n",
            "484/484 [==============================] - 11s 23ms/step - loss: 0.7005 - accuracy: 0.8548\n",
            "Epoch 97/100\n",
            "484/484 [==============================] - 11s 23ms/step - loss: 0.7368 - accuracy: 0.8435\n",
            "Epoch 98/100\n",
            "484/484 [==============================] - 11s 23ms/step - loss: 0.7104 - accuracy: 0.8509\n",
            "Epoch 99/100\n",
            "484/484 [==============================] - 11s 23ms/step - loss: 0.7261 - accuracy: 0.8456\n",
            "Epoch 100/100\n",
            "484/484 [==============================] - 11s 23ms/step - loss: 0.7259 - accuracy: 0.8478\n"
          ],
          "name": "stdout"
        }
      ]
    },
    {
      "cell_type": "code",
      "metadata": {
        "colab": {
          "base_uri": "https://localhost:8080/",
          "height": 545
        },
        "id": "1fXTEO3GJ282",
        "outputId": "bcb8375b-ebd9-4283-eb8f-7faf5153c3f5"
      },
      "source": [
        "import matplotlib.pyplot as plt\n",
        "acc = history.history['accuracy']\n",
        "loss = history.history['loss']\n",
        "\n",
        "epochs = range(len(acc))\n",
        "\n",
        "plt.plot(epochs, acc, 'b', label='Training accuracy')\n",
        "plt.title('Training accuracy')\n",
        "\n",
        "plt.figure()\n",
        "\n",
        "plt.plot(epochs, loss, 'b', label='Training Loss')\n",
        "plt.title('Training loss')\n",
        "plt.legend()\n",
        "\n",
        "plt.show()"
      ],
      "execution_count": 40,
      "outputs": [
        {
          "output_type": "display_data",
          "data": {
            "image/png": "[encoded data removed]",
            "text/plain": [
              "<Figure size 432x288 with 1 Axes>"
            ]
          },
          "metadata": {
            "tags": [],
            "needs_background": "light"
          }
        },
        {
          "output_type": "display_data",
          "data": {
            "image/png": "[encoded data removed]",
            "text/plain": [
              "<Figure size 432x288 with 1 Axes>"
            ]
          },
          "metadata": {
            "tags": [],
            "needs_background": "light"
          }
        }
      ]
    },
    {
      "cell_type": "code",
      "metadata": {
        "colab": {
          "base_uri": "https://localhost:8080/"
        },
        "id": "6Vc6PHgxa6Hm",
        "outputId": "5e28f886-daa0-48b1-fccb-0be106ae10b1"
      },
      "source": [
        "seed_text = \"Help me Obi Wan Kenobi, you're my only hope\"\n",
        "next_words = 100\n",
        "  \n",
        "for _ in range(next_words):\n",
        "\ttoken_list = tokenizer.texts_to_sequences([seed_text])[0]\n",
        "\ttoken_list = pad_sequences([token_list], maxlen=max_sequence_len-1, padding='pre')\n",
        "\tpredicted = model.predict_classes(token_list, verbose=0)\n",
        "\toutput_word = \"\"\n",
        "\tfor word, index in tokenizer.word_index.items():\n",
        "\t\tif index == predicted:\n",
        "\t\t\toutput_word = word\n",
        "\t\t\tbreak\n",
        "\tseed_text += \" \" + output_word\n",
        "print(seed_text)"
      ],
      "execution_count": 41,
      "outputs": [
        {
          "output_type": "stream",
          "text": [
            "/usr/local/lib/python3.6/dist-packages/tensorflow/python/keras/engine/sequential.py:450: UserWarning: `model.predict_classes()` is deprecated and will be removed after 2021-01-01. Please use instead:* `np.argmax(model.predict(x), axis=-1)`,   if your model does multi-class classification   (e.g. if it uses a `softmax` last-layer activation).* `(model.predict(x) > 0.5).astype(\"int32\")`,   if your model does binary classification   (e.g. if it uses a `sigmoid` last-layer activation).\n",
            "  warnings.warn('`model.predict_classes()` is deprecated and '\n"
          ],
          "name": "stderr"
        },
        {
          "output_type": "stream",
          "text": [
            "Help me Obi Wan Kenobi, you're my only hope of battering days are short aside 'will' ' ' of ' ' shows ' of me nor it nor thy sake go treasure fullness his due lies buried face ' alter'd ' in your ' is but ' shows call the world ' thee nor i am old ' can ' of heaven's gate bring ' to ' are ' to ' thee is the lays ' eyed are one ' shows not his ' lies shows for ' did go ' can ' to hope of single one ' ' again ' may ' have ' nor dress his\n"
          ],
          "name": "stdout"
        }
      ]
    },
    {
      "cell_type": "code",
      "metadata": {
        "id": "dAyNxmXeMqpD"
      },
      "source": [
        ""
      ],
      "execution_count": null,
      "outputs": []
    }
  ]
}