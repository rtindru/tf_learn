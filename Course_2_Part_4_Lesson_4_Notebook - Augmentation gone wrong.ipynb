{
  "nbformat": 4,
  "nbformat_minor": 0,
  "metadata": {
    "accelerator": "TPU",
    "colab": {
      "name": "Course 2 - Part 4 - Lesson 4 - Notebook.ipynb",
      "provenance": [],
      "collapsed_sections": [],
      "toc_visible": true
    },
    "kernelspec": {
      "display_name": "Python 3",
      "name": "python3"
    }
  },
  "cells": [
    {
      "cell_type": "markdown",
      "metadata": {
        "id": "rX8mhOLljYeM"
      },
      "source": [
        "##### Copyright 2019 The TensorFlow Authors."
      ]
    },
    {
      "cell_type": "code",
      "metadata": {
        "cellView": "form",
        "id": "BZSlp3DAjdYf"
      },
      "source": [
        "#@title Licensed under the Apache License, Version 2.0 (the \"License\");\n",
        "# you may not use this file except in compliance with the License.\n",
        "# You may obtain a copy of the License at\n",
        "#\n",
        "# https://www.apache.org/licenses/LICENSE-2.0\n",
        "#\n",
        "# Unless required by applicable law or agreed to in writing, software\n",
        "# distributed under the License is distributed on an \"AS IS\" BASIS,\n",
        "# WITHOUT WARRANTIES OR CONDITIONS OF ANY KIND, either express or implied.\n",
        "# See the License for the specific language governing permissions and\n",
        "# limitations under the License."
      ],
      "execution_count": 7,
      "outputs": []
    },
    {
      "cell_type": "code",
      "metadata": {
        "colab": {
          "base_uri": "https://localhost:8080/"
        },
        "id": "RXZT2UsyIVe_",
        "outputId": "b8ebe753-7675-4137-d87d-f9bda4593c9b"
      },
      "source": [
        "!wget --no-check-certificate \\\n",
        "    https://storage.googleapis.com/laurencemoroney-blog.appspot.com/horse-or-human.zip \\\n",
        "    -O /tmp/horse-or-human.zip\n",
        "\n",
        "!wget --no-check-certificate \\\n",
        "    https://storage.googleapis.com/laurencemoroney-blog.appspot.com/validation-horse-or-human.zip \\\n",
        "    -O /tmp/validation-horse-or-human.zip\n",
        "  \n",
        "import os\n",
        "import zipfile\n",
        "\n",
        "local_zip = '/tmp/horse-or-human.zip'\n",
        "zip_ref = zipfile.ZipFile(local_zip, 'r')\n",
        "zip_ref.extractall('/tmp/horse-or-human')\n",
        "local_zip = '/tmp/validation-horse-or-human.zip'\n",
        "zip_ref = zipfile.ZipFile(local_zip, 'r')\n",
        "zip_ref.extractall('/tmp/validation-horse-or-human')\n",
        "zip_ref.close()\n",
        "# Directory with our training horse pictures\n",
        "train_horse_dir = os.path.join('/tmp/horse-or-human/horses')\n",
        "\n",
        "# Directory with our training human pictures\n",
        "train_human_dir = os.path.join('/tmp/horse-or-human/humans')\n",
        "\n",
        "# Directory with our training horse pictures\n",
        "validation_horse_dir = os.path.join('/tmp/validation-horse-or-human/horses')\n",
        "\n",
        "# Directory with our training human pictures\n",
        "validation_human_dir = os.path.join('/tmp/validation-horse-or-human/humans')"
      ],
      "execution_count": 8,
      "outputs": [
        {
          "output_type": "stream",
          "text": [
            "--2020-12-20 19:58:10--  https://storage.googleapis.com/laurencemoroney-blog.appspot.com/horse-or-human.zip\n",
            "Resolving storage.googleapis.com (storage.googleapis.com)... 172.217.212.128, 172.217.214.128, 108.177.111.128, ...\n",
            "Connecting to storage.googleapis.com (storage.googleapis.com)|172.217.212.128|:443... connected.\n",
            "HTTP request sent, awaiting response... 200 OK\n",
            "Length: 149574867 (143M) [application/zip]\n",
            "Saving to: ‘/tmp/horse-or-human.zip’\n",
            "\n",
            "/tmp/horse-or-human 100%[===================>] 142.65M   128MB/s    in 1.1s    \n",
            "\n",
            "2020-12-20 19:58:12 (128 MB/s) - ‘/tmp/horse-or-human.zip’ saved [149574867/149574867]\n",
            "\n",
            "--2020-12-20 19:58:12--  https://storage.googleapis.com/laurencemoroney-blog.appspot.com/validation-horse-or-human.zip\n",
            "Resolving storage.googleapis.com (storage.googleapis.com)... 173.194.197.128, 209.85.200.128, 108.177.112.128, ...\n",
            "Connecting to storage.googleapis.com (storage.googleapis.com)|173.194.197.128|:443... connected.\n",
            "HTTP request sent, awaiting response... 200 OK\n",
            "Length: 11480187 (11M) [application/zip]\n",
            "Saving to: ‘/tmp/validation-horse-or-human.zip’\n",
            "\n",
            "/tmp/validation-hor 100%[===================>]  10.95M  41.5MB/s    in 0.3s    \n",
            "\n",
            "2020-12-20 19:58:12 (41.5 MB/s) - ‘/tmp/validation-horse-or-human.zip’ saved [11480187/11480187]\n",
            "\n"
          ],
          "name": "stdout"
        }
      ]
    },
    {
      "cell_type": "markdown",
      "metadata": {
        "id": "5oqBkNBJmtUv"
      },
      "source": [
        "## Building a Small Model from Scratch\n",
        "\n",
        "But before we continue, let's start defining the model:\n",
        "\n",
        "Step 1 will be to import tensorflow."
      ]
    },
    {
      "cell_type": "code",
      "metadata": {
        "id": "qvfZg3LQbD-5"
      },
      "source": [
        "import tensorflow as tf"
      ],
      "execution_count": 9,
      "outputs": []
    },
    {
      "cell_type": "markdown",
      "metadata": {
        "id": "BnhYCP4tdqjC"
      },
      "source": [
        "We then add convolutional layers as in the previous example, and flatten the final result to feed into the densely connected layers."
      ]
    },
    {
      "cell_type": "markdown",
      "metadata": {
        "id": "gokG5HKpdtzm"
      },
      "source": [
        "Finally we add the densely connected layers. \n",
        "\n",
        "Note that because we are facing a two-class classification problem, i.e. a *binary classification problem*, we will end our network with a [*sigmoid* activation](https://wikipedia.org/wiki/Sigmoid_function), so that the output of our network will be a single scalar between 0 and 1, encoding the probability that the current image is class 1 (as opposed to class 0)."
      ]
    },
    {
      "cell_type": "code",
      "metadata": {
        "id": "PixZ2s5QbYQ3"
      },
      "source": [
        "model = tf.keras.models.Sequential([\n",
        "    # Note the input shape is the desired size of the image 300x300 with 3 bytes color\n",
        "    # This is the first convolution\n",
        "    tf.keras.layers.Conv2D(16, (3,3), activation='relu', input_shape=(300, 300, 3)),\n",
        "    tf.keras.layers.MaxPooling2D(2, 2),\n",
        "    # The second convolution\n",
        "    tf.keras.layers.Conv2D(32, (3,3), activation='relu'),\n",
        "    tf.keras.layers.MaxPooling2D(2,2),\n",
        "    # The third convolution\n",
        "    tf.keras.layers.Conv2D(64, (3,3), activation='relu'),\n",
        "    tf.keras.layers.MaxPooling2D(2,2),\n",
        "    # The fourth convolution\n",
        "    tf.keras.layers.Conv2D(64, (3,3), activation='relu'),\n",
        "    tf.keras.layers.MaxPooling2D(2,2),\n",
        "    # The fifth convolution\n",
        "    tf.keras.layers.Conv2D(64, (3,3), activation='relu'),\n",
        "    tf.keras.layers.MaxPooling2D(2,2),\n",
        "    # Flatten the results to feed into a DNN\n",
        "    tf.keras.layers.Flatten(),\n",
        "    # 512 neuron hidden layer\n",
        "    tf.keras.layers.Dense(512, activation='relu'),\n",
        "    # Only 1 output neuron. It will contain a value from 0-1 where 0 for 1 class ('horses') and 1 for the other ('humans')\n",
        "    tf.keras.layers.Dense(1, activation='sigmoid')\n",
        "])"
      ],
      "execution_count": 10,
      "outputs": []
    },
    {
      "cell_type": "code",
      "metadata": {
        "id": "8DHWhFP_uhq3"
      },
      "source": [
        "from tensorflow.keras.optimizers import RMSprop\n",
        "\n",
        "model.compile(loss='binary_crossentropy',\n",
        "              optimizer=RMSprop(lr=1e-4),\n",
        "              metrics=['accuracy'])"
      ],
      "execution_count": 11,
      "outputs": []
    },
    {
      "cell_type": "code",
      "metadata": {
        "colab": {
          "base_uri": "https://localhost:8080/"
        },
        "id": "ClebU9NJg99G",
        "outputId": "356e540e-303e-433e-8154-a70d7275275a"
      },
      "source": [
        "from tensorflow.keras.preprocessing.image import ImageDataGenerator\n",
        "\n",
        "# All images will be rescaled by 1./255\n",
        "train_datagen = ImageDataGenerator(\n",
        "      rescale=1./255,\n",
        "      rotation_range=40,\n",
        "      width_shift_range=0.2,\n",
        "      height_shift_range=0.2,\n",
        "      shear_range=0.2,\n",
        "      zoom_range=0.2,\n",
        "      horizontal_flip=True,\n",
        "      fill_mode='nearest')\n",
        "\n",
        "validation_datagen = ImageDataGenerator(rescale=1/255)\n",
        "\n",
        "# Flow training images in batches of 128 using train_datagen generator\n",
        "train_generator = train_datagen.flow_from_directory(\n",
        "        '/tmp/horse-or-human/',  # This is the source directory for training images\n",
        "        target_size=(300, 300),  # All images will be resized to 150x150\n",
        "        batch_size=128,\n",
        "        # Since we use binary_crossentropy loss, we need binary labels\n",
        "        class_mode='binary')\n",
        "\n",
        "# Flow training images in batches of 128 using train_datagen generator\n",
        "validation_generator = validation_datagen.flow_from_directory(\n",
        "        '/tmp/validation-horse-or-human/',  # This is the source directory for training images\n",
        "        target_size=(300, 300),  # All images will be resized to 150x150\n",
        "        batch_size=32,\n",
        "        # Since we use binary_crossentropy loss, we need binary labels\n",
        "        class_mode='binary')"
      ],
      "execution_count": 12,
      "outputs": [
        {
          "output_type": "stream",
          "text": [
            "Found 1027 images belonging to 2 classes.\n",
            "Found 256 images belonging to 2 classes.\n"
          ],
          "name": "stdout"
        }
      ]
    },
    {
      "cell_type": "code",
      "metadata": {
        "colab": {
          "base_uri": "https://localhost:8080/"
        },
        "id": "Fb1_lgobv81m",
        "outputId": "ae6d7852-1b0c-4afe-925d-84d50b41bd00"
      },
      "source": [
        "history = model.fit(\n",
        "      train_generator,\n",
        "      steps_per_epoch=8,  \n",
        "      epochs=15,\n",
        "      verbose=1,\n",
        "      validation_data = validation_generator,\n",
        "      validation_steps=8)"
      ],
      "execution_count": 13,
      "outputs": [
        {
          "output_type": "stream",
          "text": [
            "Epoch 1/15\n",
            "8/8 [==============================] - 103s 12s/step - loss: 0.6875 - accuracy: 0.5598 - val_loss: 0.6870 - val_accuracy: 0.5000\n",
            "Epoch 2/15\n",
            "8/8 [==============================] - 99s 12s/step - loss: 0.6537 - accuracy: 0.6066 - val_loss: 0.6241 - val_accuracy: 0.6172\n",
            "Epoch 3/15\n",
            "8/8 [==============================] - 99s 12s/step - loss: 0.6157 - accuracy: 0.7289 - val_loss: 0.6383 - val_accuracy: 0.5156\n",
            "Epoch 4/15\n",
            "8/8 [==============================] - 100s 12s/step - loss: 0.5768 - accuracy: 0.7458 - val_loss: 0.5897 - val_accuracy: 0.5859\n",
            "Epoch 5/15\n",
            "8/8 [==============================] - 99s 12s/step - loss: 0.5728 - accuracy: 0.7196 - val_loss: 0.5537 - val_accuracy: 0.6719\n",
            "Epoch 6/15\n",
            "8/8 [==============================] - 99s 12s/step - loss: 0.5616 - accuracy: 0.7205 - val_loss: 0.6500 - val_accuracy: 0.5352\n",
            "Epoch 7/15\n",
            "8/8 [==============================] - 100s 12s/step - loss: 0.5175 - accuracy: 0.7815 - val_loss: 0.5559 - val_accuracy: 0.6680\n",
            "Epoch 8/15\n",
            "8/8 [==============================] - 101s 12s/step - loss: 0.5192 - accuracy: 0.7766 - val_loss: 0.6050 - val_accuracy: 0.6367\n",
            "Epoch 9/15\n",
            "8/8 [==============================] - 99s 12s/step - loss: 0.5174 - accuracy: 0.7648 - val_loss: 0.5435 - val_accuracy: 0.6875\n",
            "Epoch 10/15\n",
            "8/8 [==============================] - 99s 12s/step - loss: 0.5368 - accuracy: 0.7374 - val_loss: 0.9057 - val_accuracy: 0.5195\n",
            "Epoch 11/15\n",
            "8/8 [==============================] - 100s 12s/step - loss: 0.4803 - accuracy: 0.7693 - val_loss: 1.0491 - val_accuracy: 0.5117\n",
            "Epoch 12/15\n",
            "8/8 [==============================] - 99s 12s/step - loss: 0.5023 - accuracy: 0.7625 - val_loss: 0.9368 - val_accuracy: 0.5273\n",
            "Epoch 13/15\n",
            "8/8 [==============================] - 99s 12s/step - loss: 0.4613 - accuracy: 0.7963 - val_loss: 0.9015 - val_accuracy: 0.5391\n",
            "Epoch 14/15\n",
            "8/8 [==============================] - 102s 12s/step - loss: 0.4504 - accuracy: 0.7902 - val_loss: 1.0081 - val_accuracy: 0.5352\n",
            "Epoch 15/15\n",
            "8/8 [==============================] - 99s 12s/step - loss: 0.4366 - accuracy: 0.8079 - val_loss: 1.5753 - val_accuracy: 0.5078\n"
          ],
          "name": "stdout"
        }
      ]
    },
    {
      "cell_type": "markdown",
      "metadata": {
        "id": "85l7FDNhsNBw"
      },
      "source": [
        "# With Augmentation: Fluctations in validation accuracy"
      ]
    },
    {
      "cell_type": "code",
      "metadata": {
        "colab": {
          "base_uri": "https://localhost:8080/",
          "height": 545
        },
        "id": "7zNPRWOVJdOH",
        "outputId": "e6078805-2f63-4777-fa00-6b47197caa09"
      },
      "source": [
        "import matplotlib.pyplot as plt\n",
        "acc = history.history['accuracy']\n",
        "val_acc = history.history['val_accuracy']\n",
        "loss = history.history['loss']\n",
        "val_loss = history.history['val_loss']\n",
        "\n",
        "epochs = range(len(acc))\n",
        "\n",
        "plt.plot(epochs, acc, 'r', label='Training accuracy')\n",
        "plt.plot(epochs, val_acc, 'b', label='Validation accuracy')\n",
        "plt.title('Training and validation accuracy')\n",
        "\n",
        "plt.figure()\n",
        "\n",
        "plt.plot(epochs, loss, 'r', label='Training Loss')\n",
        "plt.plot(epochs, val_loss, 'b', label='Validation Loss')\n",
        "plt.title('Training and validation loss')\n",
        "plt.legend()\n",
        "\n",
        "plt.show()"
      ],
      "execution_count": 14,
      "outputs": [
        {
          "output_type": "display_data",
          "data": {
            "image/png": "[encoded data removed]",
            "text/plain": [
              "<Figure size 432x288 with 1 Axes>"
            ]
          },
          "metadata": {
            "tags": [],
            "needs_background": "light"
          }
        },
        {
          "output_type": "display_data",
          "data": {
            "image/png": "[encoded data removed]",
            "text/plain": [
              "<Figure size 432x288 with 1 Axes>"
            ]
          },
          "metadata": {
            "tags": [],
            "needs_background": "light"
          }
        }
      ]
    },
    {
      "cell_type": "code",
      "metadata": {
        "id": "Zu69mLMqsAio",
        "outputId": "c0bdbd96-0af0-4ec9-96fc-4b4e6a0f12e4",
        "colab": {
          "base_uri": "https://localhost:8080/"
        }
      },
      "source": [
        "from tensorflow.keras.preprocessing.image import ImageDataGenerator\n",
        "\n",
        "# All images will be rescaled by 1./255\n",
        "train_datagen = ImageDataGenerator(\n",
        "      rescale=1./255)\n",
        "\n",
        "validation_datagen = ImageDataGenerator(rescale=1/255)\n",
        "\n",
        "# Flow training images in batches of 128 using train_datagen generator\n",
        "train_generator = train_datagen.flow_from_directory(\n",
        "        '/tmp/horse-or-human/',  # This is the source directory for training images\n",
        "        target_size=(300, 300),  # All images will be resized to 150x150\n",
        "        batch_size=128,\n",
        "        # Since we use binary_crossentropy loss, we need binary labels\n",
        "        class_mode='binary')\n",
        "\n",
        "# Flow training images in batches of 128 using train_datagen generator\n",
        "validation_generator = validation_datagen.flow_from_directory(\n",
        "        '/tmp/validation-horse-or-human/',  # This is the source directory for training images\n",
        "        target_size=(300, 300),  # All images will be resized to 150x150\n",
        "        batch_size=32,\n",
        "        # Since we use binary_crossentropy loss, we need binary labels\n",
        "        class_mode='binary')"
      ],
      "execution_count": 15,
      "outputs": [
        {
          "output_type": "stream",
          "text": [
            "Found 1027 images belonging to 2 classes.\n",
            "Found 256 images belonging to 2 classes.\n"
          ],
          "name": "stdout"
        }
      ]
    },
    {
      "cell_type": "code",
      "metadata": {
        "id": "dhR3yUhmsEWw",
        "outputId": "033dbaca-2853-4863-83b8-b3ff0d459208",
        "colab": {
          "base_uri": "https://localhost:8080/"
        }
      },
      "source": [
        "history = model.fit(\n",
        "      train_generator,\n",
        "      steps_per_epoch=8,  \n",
        "      epochs=15,\n",
        "      verbose=1,\n",
        "      validation_data = validation_generator,\n",
        "      validation_steps=8)"
      ],
      "execution_count": 16,
      "outputs": [
        {
          "output_type": "stream",
          "text": [
            "Epoch 1/15\n",
            "8/8 [==============================] - 80s 10s/step - loss: 0.2889 - accuracy: 0.8921 - val_loss: 0.9531 - val_accuracy: 0.6172\n",
            "Epoch 2/15\n",
            "8/8 [==============================] - 80s 10s/step - loss: 0.2370 - accuracy: 0.9032 - val_loss: 0.8102 - val_accuracy: 0.6797\n",
            "Epoch 3/15\n",
            "8/8 [==============================] - 80s 10s/step - loss: 0.2078 - accuracy: 0.9210 - val_loss: 0.6330 - val_accuracy: 0.7695\n",
            "Epoch 4/15\n",
            "8/8 [==============================] - 79s 11s/step - loss: 0.1437 - accuracy: 0.9588 - val_loss: 0.9870 - val_accuracy: 0.7305\n",
            "Epoch 5/15\n",
            "8/8 [==============================] - 80s 10s/step - loss: 0.1125 - accuracy: 0.9755 - val_loss: 1.7932 - val_accuracy: 0.6211\n",
            "Epoch 6/15\n",
            "8/8 [==============================] - 82s 10s/step - loss: 0.1355 - accuracy: 0.9555 - val_loss: 1.1273 - val_accuracy: 0.7422\n",
            "Epoch 7/15\n",
            "8/8 [==============================] - 81s 10s/step - loss: 0.1146 - accuracy: 0.9600 - val_loss: 1.0772 - val_accuracy: 0.7656\n",
            "Epoch 8/15\n",
            "8/8 [==============================] - 80s 10s/step - loss: 0.0650 - accuracy: 0.9855 - val_loss: 1.5233 - val_accuracy: 0.7266\n",
            "Epoch 9/15\n",
            "8/8 [==============================] - 80s 10s/step - loss: 0.0837 - accuracy: 0.9700 - val_loss: 1.3833 - val_accuracy: 0.7539\n",
            "Epoch 10/15\n",
            "8/8 [==============================] - 81s 10s/step - loss: 0.0647 - accuracy: 0.9811 - val_loss: 0.9920 - val_accuracy: 0.8398\n",
            "Epoch 11/15\n",
            "8/8 [==============================] - 80s 10s/step - loss: 0.0674 - accuracy: 0.9733 - val_loss: 1.2218 - val_accuracy: 0.8203\n",
            "Epoch 12/15\n",
            "8/8 [==============================] - 80s 10s/step - loss: 0.0604 - accuracy: 0.9811 - val_loss: 1.0725 - val_accuracy: 0.8398\n",
            "Epoch 13/15\n",
            "8/8 [==============================] - 82s 12s/step - loss: 0.0934 - accuracy: 0.9655 - val_loss: 1.4434 - val_accuracy: 0.7773\n",
            "Epoch 14/15\n",
            "8/8 [==============================] - 80s 10s/step - loss: 0.0394 - accuracy: 0.9867 - val_loss: 1.6754 - val_accuracy: 0.7617\n",
            "Epoch 15/15\n",
            "8/8 [==============================] - 80s 10s/step - loss: 0.0292 - accuracy: 0.9922 - val_loss: 1.6313 - val_accuracy: 0.7930\n"
          ],
          "name": "stdout"
        }
      ]
    },
    {
      "cell_type": "markdown",
      "metadata": {
        "id": "Z4BVF_oWsHeZ"
      },
      "source": [
        "# Without Augmentation: Better validation accuracy"
      ]
    },
    {
      "cell_type": "code",
      "metadata": {
        "id": "ns4Lx2YosFct",
        "outputId": "15eeb5c6-7b1c-4336-b2b9-78fdc71c2d41",
        "colab": {
          "base_uri": "https://localhost:8080/",
          "height": 545
        }
      },
      "source": [
        "import matplotlib.pyplot as plt\n",
        "acc = history.history['accuracy']\n",
        "val_acc = history.history['val_accuracy']\n",
        "loss = history.history['loss']\n",
        "val_loss = history.history['val_loss']\n",
        "\n",
        "epochs = range(len(acc))\n",
        "\n",
        "plt.plot(epochs, acc, 'r', label='Training accuracy')\n",
        "plt.plot(epochs, val_acc, 'b', label='Validation accuracy')\n",
        "plt.title('Training and validation accuracy')\n",
        "\n",
        "plt.figure()\n",
        "\n",
        "plt.plot(epochs, loss, 'r', label='Training Loss')\n",
        "plt.plot(epochs, val_loss, 'b', label='Validation Loss')\n",
        "plt.title('Training and validation loss')\n",
        "plt.legend()\n",
        "\n",
        "plt.show()"
      ],
      "execution_count": 18,
      "outputs": [
        {
          "output_type": "display_data",
          "data": {
            "image/png": "[encoded data removed]",
            "text/plain": [
              "<Figure size 432x288 with 1 Axes>"
            ]
          },
          "metadata": {
            "tags": [],
            "needs_background": "light"
          }
        },
        {
          "output_type": "display_data",
          "data": {
            "image/png": "[encoded data removed]",
            "text/plain": [
              "<Figure size 432x288 with 1 Axes>"
            ]
          },
          "metadata": {
            "tags": [],
            "needs_background": "light"
          }
        }
      ]
    },
    {
      "cell_type": "markdown",
      "metadata": {
        "id": "y8X29RFKrdTp"
      },
      "source": [
        "# Image augmentation is not a silver bullet. \n",
        "In this example, we have a training set and validation set that are very similar to each other. \n",
        "By using augmentation, we have introduced some randomness to our training data. However, this randomness does not exist in our validation set.\n",
        "\n",
        "As a result, the validation accuracy fluctuates high and low.\n",
        "\n",
        "## Insight: Validation set should contain a good diversity of images."
      ]
    },
    {
      "cell_type": "code",
      "metadata": {
        "id": "6TdGwrjir9T7"
      },
      "source": [
        ""
      ],
      "execution_count": 17,
      "outputs": []
    }
  ]
}